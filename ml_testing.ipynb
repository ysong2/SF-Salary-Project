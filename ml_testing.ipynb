{
 "cells": [
  {
   "cell_type": "code",
   "execution_count": 3,
   "metadata": {},
   "outputs": [],
   "source": [
    "import os\n",
    "import numpy as np\n",
    "import pandas as pd\n",
    "import matplotlib.pyplot as plt\n",
    "import seaborn as sns\n",
    "from pandas import Series, DataFrame\n",
    "%matplotlib inline\n"
   ]
  },
  {
   "cell_type": "markdown",
   "metadata": {},
   "source": [
    "# Read dataset "
   ]
  },
  {
   "cell_type": "code",
   "execution_count": 32,
   "metadata": {
    "scrolled": false
   },
   "outputs": [
    {
     "data": {
      "text/html": [
       "<div>\n",
       "<style scoped>\n",
       "    .dataframe tbody tr th:only-of-type {\n",
       "        vertical-align: middle;\n",
       "    }\n",
       "\n",
       "    .dataframe tbody tr th {\n",
       "        vertical-align: top;\n",
       "    }\n",
       "\n",
       "    .dataframe thead th {\n",
       "        text-align: right;\n",
       "    }\n",
       "</style>\n",
       "<table border=\"1\" class=\"dataframe\">\n",
       "  <thead>\n",
       "    <tr style=\"text-align: right;\">\n",
       "      <th></th>\n",
       "      <th>id</th>\n",
       "      <th>spender</th>\n",
       "      <th>churned</th>\n",
       "      <th>store_usage</th>\n",
       "      <th>level</th>\n",
       "      <th>platform</th>\n",
       "      <th>country</th>\n",
       "      <th>cityPopulation</th>\n",
       "      <th>cityAverageInvestment</th>\n",
       "      <th>cityHasPve</th>\n",
       "      <th>days_played</th>\n",
       "      <th>churned_day_actions</th>\n",
       "      <th>action_before_churnday</th>\n",
       "    </tr>\n",
       "  </thead>\n",
       "  <tbody>\n",
       "    <tr>\n",
       "      <th>0</th>\n",
       "      <td>5a7837a992bc5b771a75446b</td>\n",
       "      <td>0</td>\n",
       "      <td>1</td>\n",
       "      <td>0.0</td>\n",
       "      <td>1</td>\n",
       "      <td>IPhonePlayer</td>\n",
       "      <td>US</td>\n",
       "      <td>1</td>\n",
       "      <td>0</td>\n",
       "      <td>False</td>\n",
       "      <td>12</td>\n",
       "      <td>1</td>\n",
       "      <td>0</td>\n",
       "    </tr>\n",
       "    <tr>\n",
       "      <th>1</th>\n",
       "      <td>5959517eb147040ddcd0e8f8</td>\n",
       "      <td>0</td>\n",
       "      <td>1</td>\n",
       "      <td>0.0</td>\n",
       "      <td>1</td>\n",
       "      <td>IPhonePlayer</td>\n",
       "      <td>US</td>\n",
       "      <td>1</td>\n",
       "      <td>0</td>\n",
       "      <td>False</td>\n",
       "      <td>233</td>\n",
       "      <td>1</td>\n",
       "      <td>0</td>\n",
       "    </tr>\n",
       "    <tr>\n",
       "      <th>2</th>\n",
       "      <td>5a4436000ec25c4de6754f6b</td>\n",
       "      <td>0</td>\n",
       "      <td>1</td>\n",
       "      <td>0.0</td>\n",
       "      <td>1</td>\n",
       "      <td>WebGLPlayer</td>\n",
       "      <td>US</td>\n",
       "      <td>1</td>\n",
       "      <td>0</td>\n",
       "      <td>False</td>\n",
       "      <td>33</td>\n",
       "      <td>1</td>\n",
       "      <td>0</td>\n",
       "    </tr>\n",
       "    <tr>\n",
       "      <th>3</th>\n",
       "      <td>5803a415244e8cbe0ac8f513</td>\n",
       "      <td>0</td>\n",
       "      <td>1</td>\n",
       "      <td>0.0</td>\n",
       "      <td>1</td>\n",
       "      <td>Android</td>\n",
       "      <td>US</td>\n",
       "      <td>1</td>\n",
       "      <td>0</td>\n",
       "      <td>False</td>\n",
       "      <td>21</td>\n",
       "      <td>5</td>\n",
       "      <td>0</td>\n",
       "    </tr>\n",
       "    <tr>\n",
       "      <th>4</th>\n",
       "      <td>5776d78a82ca212921f143d2</td>\n",
       "      <td>0</td>\n",
       "      <td>1</td>\n",
       "      <td>0.0</td>\n",
       "      <td>1</td>\n",
       "      <td>IPhonePlayer</td>\n",
       "      <td>US</td>\n",
       "      <td>1</td>\n",
       "      <td>0</td>\n",
       "      <td>False</td>\n",
       "      <td>56</td>\n",
       "      <td>3</td>\n",
       "      <td>0</td>\n",
       "    </tr>\n",
       "  </tbody>\n",
       "</table>\n",
       "</div>"
      ],
      "text/plain": [
       "                         id  spender  churned  store_usage  level  \\\n",
       "0  5a7837a992bc5b771a75446b        0        1          0.0      1   \n",
       "1  5959517eb147040ddcd0e8f8        0        1          0.0      1   \n",
       "2  5a4436000ec25c4de6754f6b        0        1          0.0      1   \n",
       "3  5803a415244e8cbe0ac8f513        0        1          0.0      1   \n",
       "4  5776d78a82ca212921f143d2        0        1          0.0      1   \n",
       "\n",
       "       platform country  cityPopulation  cityAverageInvestment  cityHasPve  \\\n",
       "0  IPhonePlayer      US               1                      0       False   \n",
       "1  IPhonePlayer      US               1                      0       False   \n",
       "2   WebGLPlayer      US               1                      0       False   \n",
       "3       Android      US               1                      0       False   \n",
       "4  IPhonePlayer      US               1                      0       False   \n",
       "\n",
       "   days_played  churned_day_actions  action_before_churnday  \n",
       "0           12                    1                       0  \n",
       "1          233                    1                       0  \n",
       "2           33                    1                       0  \n",
       "3           21                    5                       0  \n",
       "4           56                    3                       0  "
      ]
     },
     "execution_count": 32,
     "metadata": {},
     "output_type": "execute_result"
    }
   ],
   "source": [
    "df = pd.read_csv('mltest.csv')\n",
    "df.head()"
   ]
  },
  {
   "cell_type": "code",
   "execution_count": 5,
   "metadata": {},
   "outputs": [
    {
     "data": {
      "text/html": [
       "<div>\n",
       "<style scoped>\n",
       "    .dataframe tbody tr th:only-of-type {\n",
       "        vertical-align: middle;\n",
       "    }\n",
       "\n",
       "    .dataframe tbody tr th {\n",
       "        vertical-align: top;\n",
       "    }\n",
       "\n",
       "    .dataframe thead th {\n",
       "        text-align: right;\n",
       "    }\n",
       "</style>\n",
       "<table border=\"1\" class=\"dataframe\">\n",
       "  <thead>\n",
       "    <tr style=\"text-align: right;\">\n",
       "      <th></th>\n",
       "      <th>spender</th>\n",
       "      <th>churned</th>\n",
       "      <th>store_usage</th>\n",
       "      <th>level</th>\n",
       "      <th>cityPopulation</th>\n",
       "      <th>cityAverageInvestment</th>\n",
       "      <th>days_played</th>\n",
       "      <th>churned_day_actions</th>\n",
       "      <th>action_before_churnday</th>\n",
       "    </tr>\n",
       "  </thead>\n",
       "  <tbody>\n",
       "    <tr>\n",
       "      <th>count</th>\n",
       "      <td>734916.000000</td>\n",
       "      <td>734916.000000</td>\n",
       "      <td>734916.000000</td>\n",
       "      <td>734916.000000</td>\n",
       "      <td>734916.000000</td>\n",
       "      <td>7.349160e+05</td>\n",
       "      <td>734916.000000</td>\n",
       "      <td>734916.000000</td>\n",
       "      <td>7.349160e+05</td>\n",
       "    </tr>\n",
       "    <tr>\n",
       "      <th>mean</th>\n",
       "      <td>0.153064</td>\n",
       "      <td>0.950732</td>\n",
       "      <td>0.452682</td>\n",
       "      <td>14.559920</td>\n",
       "      <td>5.545159</td>\n",
       "      <td>2.030920e+09</td>\n",
       "      <td>183.616570</td>\n",
       "      <td>4.807426</td>\n",
       "      <td>7.114078e+00</td>\n",
       "    </tr>\n",
       "    <tr>\n",
       "      <th>std</th>\n",
       "      <td>0.360049</td>\n",
       "      <td>0.216428</td>\n",
       "      <td>2.627937</td>\n",
       "      <td>10.738261</td>\n",
       "      <td>6.885667</td>\n",
       "      <td>1.803709e+10</td>\n",
       "      <td>215.646486</td>\n",
       "      <td>500.756662</td>\n",
       "      <td>4.235961e+03</td>\n",
       "    </tr>\n",
       "    <tr>\n",
       "      <th>min</th>\n",
       "      <td>0.000000</td>\n",
       "      <td>0.000000</td>\n",
       "      <td>0.000000</td>\n",
       "      <td>1.000000</td>\n",
       "      <td>0.000000</td>\n",
       "      <td>0.000000e+00</td>\n",
       "      <td>11.000000</td>\n",
       "      <td>1.000000</td>\n",
       "      <td>0.000000e+00</td>\n",
       "    </tr>\n",
       "    <tr>\n",
       "      <th>25%</th>\n",
       "      <td>0.000000</td>\n",
       "      <td>1.000000</td>\n",
       "      <td>0.150000</td>\n",
       "      <td>7.000000</td>\n",
       "      <td>1.000000</td>\n",
       "      <td>4.343000e+03</td>\n",
       "      <td>27.000000</td>\n",
       "      <td>1.000000</td>\n",
       "      <td>0.000000e+00</td>\n",
       "    </tr>\n",
       "    <tr>\n",
       "      <th>50%</th>\n",
       "      <td>0.000000</td>\n",
       "      <td>1.000000</td>\n",
       "      <td>0.430000</td>\n",
       "      <td>12.000000</td>\n",
       "      <td>2.000000</td>\n",
       "      <td>1.665000e+05</td>\n",
       "      <td>87.000000</td>\n",
       "      <td>2.000000</td>\n",
       "      <td>0.000000e+00</td>\n",
       "    </tr>\n",
       "    <tr>\n",
       "      <th>75%</th>\n",
       "      <td>0.000000</td>\n",
       "      <td>1.000000</td>\n",
       "      <td>0.730000</td>\n",
       "      <td>20.000000</td>\n",
       "      <td>7.000000</td>\n",
       "      <td>1.722431e+07</td>\n",
       "      <td>266.000000</td>\n",
       "      <td>4.000000</td>\n",
       "      <td>1.000000e+00</td>\n",
       "    </tr>\n",
       "    <tr>\n",
       "      <th>max</th>\n",
       "      <td>1.000000</td>\n",
       "      <td>1.000000</td>\n",
       "      <td>2181.540000</td>\n",
       "      <td>70.000000</td>\n",
       "      <td>26.000000</td>\n",
       "      <td>2.092217e+12</td>\n",
       "      <td>1134.000000</td>\n",
       "      <td>429226.000000</td>\n",
       "      <td>3.631361e+06</td>\n",
       "    </tr>\n",
       "  </tbody>\n",
       "</table>\n",
       "</div>"
      ],
      "text/plain": [
       "             spender        churned    store_usage          level  \\\n",
       "count  734916.000000  734916.000000  734916.000000  734916.000000   \n",
       "mean        0.153064       0.950732       0.452682      14.559920   \n",
       "std         0.360049       0.216428       2.627937      10.738261   \n",
       "min         0.000000       0.000000       0.000000       1.000000   \n",
       "25%         0.000000       1.000000       0.150000       7.000000   \n",
       "50%         0.000000       1.000000       0.430000      12.000000   \n",
       "75%         0.000000       1.000000       0.730000      20.000000   \n",
       "max         1.000000       1.000000    2181.540000      70.000000   \n",
       "\n",
       "       cityPopulation  cityAverageInvestment    days_played  \\\n",
       "count   734916.000000           7.349160e+05  734916.000000   \n",
       "mean         5.545159           2.030920e+09     183.616570   \n",
       "std          6.885667           1.803709e+10     215.646486   \n",
       "min          0.000000           0.000000e+00      11.000000   \n",
       "25%          1.000000           4.343000e+03      27.000000   \n",
       "50%          2.000000           1.665000e+05      87.000000   \n",
       "75%          7.000000           1.722431e+07     266.000000   \n",
       "max         26.000000           2.092217e+12    1134.000000   \n",
       "\n",
       "       churned_day_actions  action_before_churnday  \n",
       "count        734916.000000            7.349160e+05  \n",
       "mean              4.807426            7.114078e+00  \n",
       "std             500.756662            4.235961e+03  \n",
       "min               1.000000            0.000000e+00  \n",
       "25%               1.000000            0.000000e+00  \n",
       "50%               2.000000            0.000000e+00  \n",
       "75%               4.000000            1.000000e+00  \n",
       "max          429226.000000            3.631361e+06  "
      ]
     },
     "execution_count": 5,
     "metadata": {},
     "output_type": "execute_result"
    }
   ],
   "source": [
    "df.describe()"
   ]
  },
  {
   "cell_type": "code",
   "execution_count": 6,
   "metadata": {},
   "outputs": [
    {
     "name": "stdout",
     "output_type": "stream",
     "text": [
      "(734916, 13)\n"
     ]
    }
   ],
   "source": [
    "print(df.shape)\n"
   ]
  },
  {
   "cell_type": "code",
   "execution_count": 7,
   "metadata": {
    "scrolled": true
   },
   "outputs": [
    {
     "name": "stdout",
     "output_type": "stream",
     "text": [
      "('Number of Numerical features: ', 10)\n",
      "('Number of Categorical features: ', 3)\n"
     ]
    }
   ],
   "source": [
    "numerical_feats = df.dtypes[df.dtypes != \"object\"].index\n",
    "print(\"Number of Numerical features: \", len(numerical_feats))\n",
    "\n",
    "categorical_feats = df.dtypes[df.dtypes == \"object\"].index\n",
    "print(\"Number of Categorical features: \", len(categorical_feats))"
   ]
  },
  {
   "cell_type": "code",
   "execution_count": 8,
   "metadata": {},
   "outputs": [
    {
     "name": "stdout",
     "output_type": "stream",
     "text": [
      "Index([u'spender', u'churned', u'store_usage', u'level', u'cityPopulation',\n",
      "       u'cityAverageInvestment', u'cityHasPve', u'days_played',\n",
      "       u'churned_day_actions', u'action_before_churnday'],\n",
      "      dtype='object')\n",
      "****************************************************************************************************\n",
      "Index([u'id', u'platform', u'country'], dtype='object')\n"
     ]
    }
   ],
   "source": [
    "print(df[numerical_feats].columns)\n",
    "print(\"*\"*100)\n",
    "print(df[categorical_feats].columns)"
   ]
  },
  {
   "cell_type": "code",
   "execution_count": 9,
   "metadata": {},
   "outputs": [
    {
     "data": {
      "text/html": [
       "<div>\n",
       "<style scoped>\n",
       "    .dataframe tbody tr th:only-of-type {\n",
       "        vertical-align: middle;\n",
       "    }\n",
       "\n",
       "    .dataframe tbody tr th {\n",
       "        vertical-align: top;\n",
       "    }\n",
       "\n",
       "    .dataframe thead th {\n",
       "        text-align: right;\n",
       "    }\n",
       "</style>\n",
       "<table border=\"1\" class=\"dataframe\">\n",
       "  <thead>\n",
       "    <tr style=\"text-align: right;\">\n",
       "      <th></th>\n",
       "      <th>spender</th>\n",
       "      <th>churned</th>\n",
       "      <th>store_usage</th>\n",
       "      <th>level</th>\n",
       "      <th>cityPopulation</th>\n",
       "      <th>cityAverageInvestment</th>\n",
       "      <th>cityHasPve</th>\n",
       "      <th>days_played</th>\n",
       "      <th>churned_day_actions</th>\n",
       "      <th>action_before_churnday</th>\n",
       "    </tr>\n",
       "  </thead>\n",
       "  <tbody>\n",
       "    <tr>\n",
       "      <th>0</th>\n",
       "      <td>0</td>\n",
       "      <td>1</td>\n",
       "      <td>0.0</td>\n",
       "      <td>1</td>\n",
       "      <td>1</td>\n",
       "      <td>0</td>\n",
       "      <td>False</td>\n",
       "      <td>12</td>\n",
       "      <td>1</td>\n",
       "      <td>0</td>\n",
       "    </tr>\n",
       "    <tr>\n",
       "      <th>1</th>\n",
       "      <td>0</td>\n",
       "      <td>1</td>\n",
       "      <td>0.0</td>\n",
       "      <td>1</td>\n",
       "      <td>1</td>\n",
       "      <td>0</td>\n",
       "      <td>False</td>\n",
       "      <td>233</td>\n",
       "      <td>1</td>\n",
       "      <td>0</td>\n",
       "    </tr>\n",
       "    <tr>\n",
       "      <th>2</th>\n",
       "      <td>0</td>\n",
       "      <td>1</td>\n",
       "      <td>0.0</td>\n",
       "      <td>1</td>\n",
       "      <td>1</td>\n",
       "      <td>0</td>\n",
       "      <td>False</td>\n",
       "      <td>33</td>\n",
       "      <td>1</td>\n",
       "      <td>0</td>\n",
       "    </tr>\n",
       "    <tr>\n",
       "      <th>3</th>\n",
       "      <td>0</td>\n",
       "      <td>1</td>\n",
       "      <td>0.0</td>\n",
       "      <td>1</td>\n",
       "      <td>1</td>\n",
       "      <td>0</td>\n",
       "      <td>False</td>\n",
       "      <td>21</td>\n",
       "      <td>5</td>\n",
       "      <td>0</td>\n",
       "    </tr>\n",
       "    <tr>\n",
       "      <th>4</th>\n",
       "      <td>0</td>\n",
       "      <td>1</td>\n",
       "      <td>0.0</td>\n",
       "      <td>1</td>\n",
       "      <td>1</td>\n",
       "      <td>0</td>\n",
       "      <td>False</td>\n",
       "      <td>56</td>\n",
       "      <td>3</td>\n",
       "      <td>0</td>\n",
       "    </tr>\n",
       "  </tbody>\n",
       "</table>\n",
       "</div>"
      ],
      "text/plain": [
       "   spender  churned  store_usage  level  cityPopulation  \\\n",
       "0        0        1          0.0      1               1   \n",
       "1        0        1          0.0      1               1   \n",
       "2        0        1          0.0      1               1   \n",
       "3        0        1          0.0      1               1   \n",
       "4        0        1          0.0      1               1   \n",
       "\n",
       "   cityAverageInvestment  cityHasPve  days_played  churned_day_actions  \\\n",
       "0                      0       False           12                    1   \n",
       "1                      0       False          233                    1   \n",
       "2                      0       False           33                    1   \n",
       "3                      0       False           21                    5   \n",
       "4                      0       False           56                    3   \n",
       "\n",
       "   action_before_churnday  \n",
       "0                       0  \n",
       "1                       0  \n",
       "2                       0  \n",
       "3                       0  \n",
       "4                       0  "
      ]
     },
     "execution_count": 9,
     "metadata": {},
     "output_type": "execute_result"
    }
   ],
   "source": [
    "df[numerical_feats].head()"
   ]
  },
  {
   "cell_type": "code",
   "execution_count": 10,
   "metadata": {
    "scrolled": false
   },
   "outputs": [
    {
     "data": {
      "text/html": [
       "<div>\n",
       "<style scoped>\n",
       "    .dataframe tbody tr th:only-of-type {\n",
       "        vertical-align: middle;\n",
       "    }\n",
       "\n",
       "    .dataframe tbody tr th {\n",
       "        vertical-align: top;\n",
       "    }\n",
       "\n",
       "    .dataframe thead th {\n",
       "        text-align: right;\n",
       "    }\n",
       "</style>\n",
       "<table border=\"1\" class=\"dataframe\">\n",
       "  <thead>\n",
       "    <tr style=\"text-align: right;\">\n",
       "      <th></th>\n",
       "      <th>id</th>\n",
       "      <th>platform</th>\n",
       "      <th>country</th>\n",
       "    </tr>\n",
       "  </thead>\n",
       "  <tbody>\n",
       "    <tr>\n",
       "      <th>0</th>\n",
       "      <td>5a7837a992bc5b771a75446b</td>\n",
       "      <td>IPhonePlayer</td>\n",
       "      <td>US</td>\n",
       "    </tr>\n",
       "    <tr>\n",
       "      <th>1</th>\n",
       "      <td>5959517eb147040ddcd0e8f8</td>\n",
       "      <td>IPhonePlayer</td>\n",
       "      <td>US</td>\n",
       "    </tr>\n",
       "    <tr>\n",
       "      <th>2</th>\n",
       "      <td>5a4436000ec25c4de6754f6b</td>\n",
       "      <td>WebGLPlayer</td>\n",
       "      <td>US</td>\n",
       "    </tr>\n",
       "    <tr>\n",
       "      <th>3</th>\n",
       "      <td>5803a415244e8cbe0ac8f513</td>\n",
       "      <td>Android</td>\n",
       "      <td>US</td>\n",
       "    </tr>\n",
       "    <tr>\n",
       "      <th>4</th>\n",
       "      <td>5776d78a82ca212921f143d2</td>\n",
       "      <td>IPhonePlayer</td>\n",
       "      <td>US</td>\n",
       "    </tr>\n",
       "  </tbody>\n",
       "</table>\n",
       "</div>"
      ],
      "text/plain": [
       "                         id      platform country\n",
       "0  5a7837a992bc5b771a75446b  IPhonePlayer      US\n",
       "1  5959517eb147040ddcd0e8f8  IPhonePlayer      US\n",
       "2  5a4436000ec25c4de6754f6b   WebGLPlayer      US\n",
       "3  5803a415244e8cbe0ac8f513       Android      US\n",
       "4  5776d78a82ca212921f143d2  IPhonePlayer      US"
      ]
     },
     "execution_count": 10,
     "metadata": {},
     "output_type": "execute_result"
    }
   ],
   "source": [
    "df[categorical_feats].head()"
   ]
  },
  {
   "cell_type": "code",
   "execution_count": 11,
   "metadata": {},
   "outputs": [],
   "source": [
    "\n",
    "# mode: this switch is important for letting the kernel run faster when doing some tests \n",
    "# it sets the number of cross validations used in the Model part and\n",
    "# also turns on or off the time consuming plots done for all features in the EDA part\n",
    "\n",
    "#mode = \"edit\"\n",
    "mode = \"demo\"\n",
    "#mode = \"run\"\n",
    "\n",
    "if mode == \"edit\" :\n",
    "    nr_cv = 2\n",
    "    viz = 0\n",
    "if mode == \"demo\" :\n",
    "    nr_cv = 4\n",
    "    viz = 1\n",
    "if mode == \"run\" :\n",
    "    nr_cv = 10\n",
    "    viz = 1\n",
    "\n",
    "\n",
    "# switch for using log values for SalePrice and features     \n",
    "use_logvals = 1    \n",
    "    \n",
    "# target used for correlation \n",
    "target = 'churned'\n",
    "if use_logvals == 1 :\n",
    "    target = 'churned'\n",
    "    \n",
    "# only columns with correlation above this threshold value  \n",
    "# are used for the ML Regressors in Part 3\n",
    "min_val_corr = 0.4    \n",
    "    \n",
    "# set the number of features that are used (after ordering by correlation coefficient)    \n",
    "nr_cols = 15\n",
    "    \n",
    "# switch for dropping columns that are similar to others already used and show a high correlation to these     \n",
    "drop_similar = 1\n",
    "        \n",
    "# switch for using categorical features () like has_Pool, has_Tennis etc.    \n",
    "use_catg = 0    \n",
    "\n",
    "#\n",
    "max_score = 0.8659\n",
    "# SVR, nr_cols = 11, drop_similar = 1 (exclude \"1stFlrSF\"), use_logvals = 0, use_catg = 0\n"
   ]
  },
  {
   "cell_type": "code",
   "execution_count": 12,
   "metadata": {},
   "outputs": [],
   "source": [
    "#if viz == 1:\n",
    "    #for num in list(numerical_feats) :\n",
    "        #sns.jointplot(num, target, data = df, kind='reg')\n",
    "        #plt.show()"
   ]
  },
  {
   "cell_type": "code",
   "execution_count": 13,
   "metadata": {},
   "outputs": [],
   "source": [
    "corr = df.corr()\n",
    "corr_abs = corr.abs()\n",
    "\n",
    "nr_num_cols = len(numerical_feats)\n",
    "ser_corr = corr_abs.nlargest(nr_num_cols, target)[target]\n",
    "cols = corr_abs.nlargest(nr_num_cols, target)[target].index\n",
    "\n",
    "# Select columns with strong correlation to churned,\n",
    "# drop columns with weak correlation\n",
    "# threshold value is chosen in global settings\n",
    "cols_abv_corr_limit = list(ser_corr[ser_corr.values > min_val_corr].index)\n",
    "cols_bel_corr_limit = list(ser_corr[ser_corr.values <= min_val_corr].index)"
   ]
  },
  {
   "cell_type": "code",
   "execution_count": 14,
   "metadata": {
    "scrolled": false
   },
   "outputs": [
    {
     "name": "stdout",
     "output_type": "stream",
     "text": [
      "churned                   1.000000\n",
      "level                     0.318894\n",
      "cityPopulation            0.305121\n",
      "cityAverageInvestment     0.225082\n",
      "cityHasPve                0.211458\n",
      "days_played               0.168941\n",
      "spender                   0.106113\n",
      "store_usage               0.021588\n",
      "churned_day_actions       0.000757\n",
      "action_before_churnday    0.000017\n",
      "Name: churned, dtype: float64\n",
      "******************************\n",
      "List of numerical features with r above min_val_corr :\n",
      "['churned']\n",
      "******************************\n",
      "List of numerical features with r below min_val_corr :\n",
      "['level', 'cityPopulation', 'cityAverageInvestment', 'cityHasPve', 'days_played', 'spender', 'store_usage', 'churned_day_actions', 'action_before_churnday']\n"
     ]
    }
   ],
   "source": [
    "print(ser_corr)\n",
    "print(\"*\"*30)\n",
    "print(\"List of numerical features with r above min_val_corr :\")\n",
    "print(cols_abv_corr_limit)\n",
    "print(\"*\"*30)\n",
    "print(\"List of numerical features with r below min_val_corr :\")\n",
    "print(cols_bel_corr_limit)\n"
   ]
  },
  {
   "cell_type": "code",
   "execution_count": null,
   "metadata": {},
   "outputs": [],
   "source": []
  },
  {
   "cell_type": "markdown",
   "metadata": {},
   "source": [
    "First Look - Correlation Matrix "
   ]
  },
  {
   "cell_type": "code",
   "execution_count": 15,
   "metadata": {},
   "outputs": [
    {
     "data": {
      "text/plain": [
       "<matplotlib.axes._subplots.AxesSubplot at 0x1a0f756e90>"
      ]
     },
     "execution_count": 15,
     "metadata": {},
     "output_type": "execute_result"
    },
    {
     "data": {
      "image/png": "[encoded data removed]",
      "text/plain": [
       "<Figure size 864x864 with 2 Axes>"
      ]
     },
     "metadata": {},
     "output_type": "display_data"
    }
   ],
   "source": [
    "corr = df[numerical_feats].corr()\n",
    "\n",
    "plt.figure(figsize=(12, 12))\n",
    "sns.heatmap(corr, vmax=1, square=True)"
   ]
  },
  {
   "cell_type": "code",
   "execution_count": 16,
   "metadata": {},
   "outputs": [
    {
     "name": "stdout",
     "output_type": "stream",
     "text": [
      "churned                   1.000000\n",
      "level                     0.318894\n",
      "cityPopulation            0.305121\n",
      "cityAverageInvestment     0.225082\n",
      "cityHasPve                0.211458\n",
      "days_played               0.168941\n",
      "spender                   0.106113\n",
      "store_usage               0.021588\n",
      "churned_day_actions       0.000757\n",
      "action_before_churnday    0.000017\n",
      "Name: churned, dtype: float64\n"
     ]
    },
    {
     "ename": "AttributeError",
     "evalue": "'float' object has no attribute 'shape'",
     "output_type": "error",
     "traceback": [
      "\u001b[0;31m---------------------------------------------------------------------------\u001b[0m",
      "\u001b[0;31mAttributeError\u001b[0m                            Traceback (most recent call last)",
      "\u001b[0;32m<ipython-input-16-6d8d5fb1f7ca>\u001b[0m in \u001b[0;36m<module>\u001b[0;34m()\u001b[0m\n\u001b[1;32m      3\u001b[0m \u001b[0;34m\u001b[0m\u001b[0m\n\u001b[1;32m      4\u001b[0m \u001b[0mcols\u001b[0m \u001b[0;34m=\u001b[0m \u001b[0mcorr_abs\u001b[0m\u001b[0;34m.\u001b[0m\u001b[0mnlargest\u001b[0m\u001b[0;34m(\u001b[0m\u001b[0mnr_cols\u001b[0m\u001b[0;34m,\u001b[0m \u001b[0mtarget\u001b[0m\u001b[0;34m)\u001b[0m\u001b[0;34m[\u001b[0m\u001b[0mtarget\u001b[0m\u001b[0;34m]\u001b[0m\u001b[0;34m.\u001b[0m\u001b[0mindex\u001b[0m\u001b[0;34m\u001b[0m\u001b[0m\n\u001b[0;32m----> 5\u001b[0;31m \u001b[0mcm\u001b[0m \u001b[0;34m=\u001b[0m \u001b[0mnp\u001b[0m\u001b[0;34m.\u001b[0m\u001b[0mcorrcoef\u001b[0m\u001b[0;34m(\u001b[0m\u001b[0mdf\u001b[0m\u001b[0;34m[\u001b[0m\u001b[0mnumerical_feats\u001b[0m\u001b[0;34m]\u001b[0m\u001b[0;34m[\u001b[0m\u001b[0mcols\u001b[0m\u001b[0;34m]\u001b[0m\u001b[0;34m.\u001b[0m\u001b[0mvalues\u001b[0m\u001b[0;34m.\u001b[0m\u001b[0mT\u001b[0m\u001b[0;34m)\u001b[0m\u001b[0;34m\u001b[0m\u001b[0m\n\u001b[0m\u001b[1;32m      6\u001b[0m \u001b[0;34m\u001b[0m\u001b[0m\n\u001b[1;32m      7\u001b[0m \u001b[0mplt\u001b[0m\u001b[0;34m.\u001b[0m\u001b[0mfigure\u001b[0m\u001b[0;34m(\u001b[0m\u001b[0mfigsize\u001b[0m\u001b[0;34m=\u001b[0m\u001b[0;34m(\u001b[0m\u001b[0;36m10\u001b[0m\u001b[0;34m,\u001b[0m\u001b[0;36m10\u001b[0m\u001b[0;34m)\u001b[0m\u001b[0;34m)\u001b[0m\u001b[0;34m\u001b[0m\u001b[0m\n",
      "\u001b[0;32m/anaconda2/lib/python2.7/site-packages/numpy/lib/function_base.pyc\u001b[0m in \u001b[0;36mcorrcoef\u001b[0;34m(x, y, rowvar, bias, ddof)\u001b[0m\n\u001b[1;32m   3173\u001b[0m         warnings.warn('bias and ddof have no effect and are deprecated',\n\u001b[1;32m   3174\u001b[0m                       DeprecationWarning, stacklevel=2)\n\u001b[0;32m-> 3175\u001b[0;31m     \u001b[0mc\u001b[0m \u001b[0;34m=\u001b[0m \u001b[0mcov\u001b[0m\u001b[0;34m(\u001b[0m\u001b[0mx\u001b[0m\u001b[0;34m,\u001b[0m \u001b[0my\u001b[0m\u001b[0;34m,\u001b[0m \u001b[0mrowvar\u001b[0m\u001b[0;34m)\u001b[0m\u001b[0;34m\u001b[0m\u001b[0m\n\u001b[0m\u001b[1;32m   3176\u001b[0m     \u001b[0;32mtry\u001b[0m\u001b[0;34m:\u001b[0m\u001b[0;34m\u001b[0m\u001b[0m\n\u001b[1;32m   3177\u001b[0m         \u001b[0md\u001b[0m \u001b[0;34m=\u001b[0m \u001b[0mdiag\u001b[0m\u001b[0;34m(\u001b[0m\u001b[0mc\u001b[0m\u001b[0;34m)\u001b[0m\u001b[0;34m\u001b[0m\u001b[0m\n",
      "\u001b[0;32m/anaconda2/lib/python2.7/site-packages/numpy/lib/function_base.pyc\u001b[0m in \u001b[0;36mcov\u001b[0;34m(m, y, rowvar, bias, ddof, fweights, aweights)\u001b[0m\n\u001b[1;32m   3083\u001b[0m             \u001b[0mw\u001b[0m \u001b[0;34m*=\u001b[0m \u001b[0maweights\u001b[0m\u001b[0;34m\u001b[0m\u001b[0m\n\u001b[1;32m   3084\u001b[0m \u001b[0;34m\u001b[0m\u001b[0m\n\u001b[0;32m-> 3085\u001b[0;31m     \u001b[0mavg\u001b[0m\u001b[0;34m,\u001b[0m \u001b[0mw_sum\u001b[0m \u001b[0;34m=\u001b[0m \u001b[0maverage\u001b[0m\u001b[0;34m(\u001b[0m\u001b[0mX\u001b[0m\u001b[0;34m,\u001b[0m \u001b[0maxis\u001b[0m\u001b[0;34m=\u001b[0m\u001b[0;36m1\u001b[0m\u001b[0;34m,\u001b[0m \u001b[0mweights\u001b[0m\u001b[0;34m=\u001b[0m\u001b[0mw\u001b[0m\u001b[0;34m,\u001b[0m \u001b[0mreturned\u001b[0m\u001b[0;34m=\u001b[0m\u001b[0mTrue\u001b[0m\u001b[0;34m)\u001b[0m\u001b[0;34m\u001b[0m\u001b[0m\n\u001b[0m\u001b[1;32m   3086\u001b[0m     \u001b[0mw_sum\u001b[0m \u001b[0;34m=\u001b[0m \u001b[0mw_sum\u001b[0m\u001b[0;34m[\u001b[0m\u001b[0;36m0\u001b[0m\u001b[0;34m]\u001b[0m\u001b[0;34m\u001b[0m\u001b[0m\n\u001b[1;32m   3087\u001b[0m \u001b[0;34m\u001b[0m\u001b[0m\n",
      "\u001b[0;32m/anaconda2/lib/python2.7/site-packages/numpy/lib/function_base.pyc\u001b[0m in \u001b[0;36maverage\u001b[0;34m(a, axis, weights, returned)\u001b[0m\n\u001b[1;32m   1161\u001b[0m \u001b[0;34m\u001b[0m\u001b[0m\n\u001b[1;32m   1162\u001b[0m     \u001b[0;32mif\u001b[0m \u001b[0mreturned\u001b[0m\u001b[0;34m:\u001b[0m\u001b[0;34m\u001b[0m\u001b[0m\n\u001b[0;32m-> 1163\u001b[0;31m         \u001b[0;32mif\u001b[0m \u001b[0mscl\u001b[0m\u001b[0;34m.\u001b[0m\u001b[0mshape\u001b[0m \u001b[0;34m!=\u001b[0m \u001b[0mavg\u001b[0m\u001b[0;34m.\u001b[0m\u001b[0mshape\u001b[0m\u001b[0;34m:\u001b[0m\u001b[0;34m\u001b[0m\u001b[0m\n\u001b[0m\u001b[1;32m   1164\u001b[0m             \u001b[0mscl\u001b[0m \u001b[0;34m=\u001b[0m \u001b[0mnp\u001b[0m\u001b[0;34m.\u001b[0m\u001b[0mbroadcast_to\u001b[0m\u001b[0;34m(\u001b[0m\u001b[0mscl\u001b[0m\u001b[0;34m,\u001b[0m \u001b[0mavg\u001b[0m\u001b[0;34m.\u001b[0m\u001b[0mshape\u001b[0m\u001b[0;34m)\u001b[0m\u001b[0;34m.\u001b[0m\u001b[0mcopy\u001b[0m\u001b[0;34m(\u001b[0m\u001b[0;34m)\u001b[0m\u001b[0;34m\u001b[0m\u001b[0m\n\u001b[1;32m   1165\u001b[0m         \u001b[0;32mreturn\u001b[0m \u001b[0mavg\u001b[0m\u001b[0;34m,\u001b[0m \u001b[0mscl\u001b[0m\u001b[0;34m\u001b[0m\u001b[0m\n",
      "\u001b[0;31mAttributeError\u001b[0m: 'float' object has no attribute 'shape'"
     ]
    }
   ],
   "source": [
    "corr_abs = corr.abs()\n",
    "print (corr_abs.nlargest(nr_cols, target)[target])\n",
    "\n",
    "cols = corr_abs.nlargest(nr_cols, target)[target].index\n",
    "cm = np.corrcoef(df[numerical_feats][cols].values.T)\n",
    "\n",
    "plt.figure(figsize=(10,10))\n",
    "sns.set(font_scale=1.25)\n",
    "hm = sns.heatmap(cm, cbar=True, annot=True, square=True, fmt='.2f', annot_kws={'size': 10}, yticklabels=cols.values, xticklabels=cols.values)\n",
    "plt.show()"
   ]
  },
  {
   "cell_type": "markdown",
   "metadata": {},
   "source": [
    "Of those features with the largest correlation to churned, some also are correlated strongly to each other. We need further steps to remove the effect of correlated factors. "
   ]
  },
  {
   "cell_type": "markdown",
   "metadata": {},
   "source": [
    "Building dataset for ML analysis "
   ]
  },
  {
   "cell_type": "code",
   "execution_count": 28,
   "metadata": {
    "scrolled": true
   },
   "outputs": [
    {
     "name": "stdout",
     "output_type": "stream",
     "text": [
      "<class 'pandas.core.frame.DataFrame'>\n",
      "RangeIndex: 734916 entries, 0 to 734915\n",
      "Data columns (total 10 columns):\n",
      "spender                   734916 non-null int64\n",
      "churned                   734916 non-null int64\n",
      "store_usage               734916 non-null float64\n",
      "level                     734916 non-null int64\n",
      "cityPopulation            734916 non-null int64\n",
      "cityAverageInvestment     734916 non-null int64\n",
      "cityHasPve                734916 non-null bool\n",
      "days_played               734916 non-null int64\n",
      "churned_day_actions       734916 non-null int64\n",
      "action_before_churnday    734916 non-null int64\n",
      "dtypes: bool(1), float64(1), int64(8)\n",
      "memory usage: 51.2 MB\n"
     ]
    },
    {
     "data": {
      "text/plain": [
       "count    734916.000000\n",
       "mean          0.950732\n",
       "std           0.216428\n",
       "min           0.000000\n",
       "25%           1.000000\n",
       "50%           1.000000\n",
       "75%           1.000000\n",
       "max           1.000000\n",
       "Name: churned, dtype: float64"
      ]
     },
     "execution_count": 28,
     "metadata": {},
     "output_type": "execute_result"
    }
   ],
   "source": [
    "X = df[numerical_feats]\n",
    "y = df['churned']\n",
    "\n",
    "X.info()\n",
    "y.describe()"
   ]
  },
  {
   "cell_type": "markdown",
   "metadata": {},
   "source": [
    "Decision Tree Regressor"
   ]
  },
  {
   "cell_type": "code",
   "execution_count": null,
   "metadata": {},
   "outputs": [],
   "source": [
    "from sklearn.tree import DecisionTreeRegressor\n",
    "from sklearn import svm, datasets\n",
    "from sklearn.model_selection import GridSearchCV\n",
    "from sklearn.metrics import r2_score\n",
    "param_grid = {'min_samples_leaf' : [2,3,4,5,6,7,8,9,10,11,14,20], 'min_samples_split' : [2,3,4,5,6,7,8,9,10,11,14,20]}\n",
    "grid_dtree = GridSearchCV(DecisionTreeRegressor(), param_grid, cv=nr_cv, refit=True, verbose=1, scoring = 0.4)\n",
    "grid_dtree.fit(X, y)\n",
    "\n",
    "sc_dtree = get_best_score(grid_dtree)"
   ]
  },
  {
   "cell_type": "code",
   "execution_count": null,
   "metadata": {},
   "outputs": [],
   "source": [
    "dtree_pred = grid_dtree.predict(X_test)\n",
    "sub_dtree = pd.DataFrame()\n",
    "sub_dtree['id'] = id_test\n",
    "sub_dtree['Churned'] = dtree_pred"
   ]
  },
  {
   "cell_type": "markdown",
   "metadata": {},
   "source": [
    "Random Forest Regressor"
   ]
  },
  {
   "cell_type": "code",
   "execution_count": null,
   "metadata": {},
   "outputs": [],
   "source": [
    "from sklearn.ensemble import RandomForestRegressor\n",
    "\n",
    "param_grid = {'min_samples_leaf' : [2,3,4,5,6,7,8,9,10], 'min_samples_split' : [2,3,4,5,6,7,8,9,10,11,12]}\n",
    "grid_rf = GridSearchCV(RandomForestRegressor(), param_grid, cv=nr_cv, refit=True, verbose=1, scoring = 0.4)\n",
    "grid_rf.fit(X, y)\n",
    "\n",
    "sc_rf = get_best_score(grid_rf)"
   ]
  }
 ],
 "metadata": {
  "kernelspec": {
   "display_name": "Python 2",
   "language": "python",
   "name": "python2"
  },
  "language_info": {
   "codemirror_mode": {
    "name": "ipython",
    "version": 2
   },
   "file_extension": ".py",
   "mimetype": "text/x-python",
   "name": "python",
   "nbconvert_exporter": "python",
   "pygments_lexer": "ipython2",
   "version": "2.7.15"
  }
 },
 "nbformat": 4,
 "nbformat_minor": 2
}
